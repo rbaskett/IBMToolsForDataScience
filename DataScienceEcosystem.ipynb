{
 "cells": [
  {
   "cell_type": "markdown",
   "id": "38fd3766",
   "metadata": {},
   "source": [
    "## Name \n",
    "DataScienceEcosystem.ipynb\n",
    "## Description\n",
    "Coursera course IBM Tools for Data Science, Week # 6 project\n",
    "## Author\n",
    "Robert Baskett"
   ]
  },
  {
   "cell_type": "markdown",
   "id": "9ac1c90e",
   "metadata": {},
   "source": [
    "Exercise 1: Create a Jupyter Notebook\n",
    "    \n",
    "Create a new Jupyter notebook called DataScienceEcosystem.ipynb\n",
    "\n",
    "Note: The next item in the course will launch JupyterLite with an empty notebook with this name that you can use to complete rest of the Exercises. You can also use any other Jupyter notebook environment (e.g. Anaconda) that you prefer to complete the assignment.\n"
   ]
  },
  {
   "cell_type": "markdown",
   "id": "d22839a4",
   "metadata": {},
   "source": [
    "Exercise 2: Create markdown cell with title of the notebook \n",
    "\n",
    "Create a markdown cell with the title Data Science Tools and Ecosystem using H1 style heading.\n",
    "\n",
    "**** Take a screenshot of the markdown cell and name it as 2-title.png (Images can be saved with either the .jpg or .png extension.)\n"
   ]
  },
  {
   "cell_type": "markdown",
   "id": "f1cb1cec",
   "metadata": {},
   "source": [
    "# Data Science Tools and Ecosystem"
   ]
  },
  {
   "cell_type": "markdown",
   "id": "69d8f138",
   "metadata": {},
   "source": [
    "Exercise 3 - Create a markdown cell for an introduction \n",
    "Write an introductory sentence about the notebook such as the follows: \n",
    "In this notebook, Data Science Tools and Ecosystem are summarized.\n",
    "\n",
    "**** Take a screenshot of the markdown cell and name it as 3-intro.png (Images can be saved with either the .jpg or .png extension.)\n"
   ]
  },
  {
   "cell_type": "markdown",
   "id": "5112533d",
   "metadata": {},
   "source": [
    "In this notebook, Data Science Tools and Ecosystem are summarized."
   ]
  },
  {
   "cell_type": "markdown",
   "id": "0b325cd8",
   "metadata": {},
   "source": [
    "**Objectives:**\n",
    "\n",
    "- Understand the popular languages used in Data Science.\n",
    "- Explore commonly used libraries for Data Science tasks.\n",
    "- Introduce arithmetic expressions and basic operations in Python.\n",
    "- Perform a specific arithmetic operation in a Jupyter Notebook.\n",
    "- Demonstrate the conversion of minutes to hours in Python."
   ]
  },
  {
   "cell_type": "markdown",
   "id": "ec8b792f",
   "metadata": {},
   "source": [
    "Exercise 4 - Create a markdown cell to list data science languages\n",
    "Start the cell with an overview line such as: \n",
    "Some of the popular languages that Data Scientists use are:\n",
    "Then create an ordered list (i.e. numbered) listing 3 (or more) commonly used languages for data science.\n",
    "\n",
    "**** Take a screenshot of the markdown cell and name it as 4-dslanguages.png (Images can be saved with either the .jpg or .png extension.)\n"
   ]
  },
  {
   "cell_type": "markdown",
   "id": "b2dc3403",
   "metadata": {},
   "source": [
    "# Some of the popular languages that Data Scientists use are:\n",
    "\n",
    "1. Python: used for data analysis, machine learning, and scientific computing. Popular libraries include (not a complete list): NumPy, Pandas, Matplotlib, and scikit-learn.\n",
    "\n",
    "2. R: used for statistical analysis and visualization with packages for data manipulation and exploration.\n",
    "\n",
    "3. Julia: Known for its speed and efficiency, Julia is gaining popularity in scientific computing and data science tasks.\n",
    "\n",
    "4. Scala: useful in big data processing frameworks like Apache Spark, Scala combines object-oriented and functional programming features.\n"
   ]
  },
  {
   "cell_type": "markdown",
   "id": "920ca954",
   "metadata": {},
   "source": [
    "Exercise 5 - Create a markdown cell to list data science libraries\n",
    "Add an overview line to the cell like:\n",
    "Some of the commonly used libraries used by Data Scientists include:\n",
    "Below this line add an ordered list listing 3 (or more) commonly used libraries in data science.\n",
    "\n",
    "**** Take a screenshot of the markdown cell and name it as 5-dslibraries.png (Images can be saved with either the .jpg or .png extension.)\n"
   ]
  },
  {
   "cell_type": "markdown",
   "id": "66c4a16b",
   "metadata": {},
   "source": [
    "# Some of the commonly used libraries used by Data Scientists include:\n",
    "\n",
    "1. NumPy: A fundamental package for scientific computing with Python. Support for large, multi-dimensional arrays and matrices, along with mathematical functions.\n",
    "\n",
    "2. PyTorch: Another popular open-source machine learning library, used for computational graph and ease of use.\n",
    "\n",
    "3. Seaborn: Built on top of Matplotlib, Seaborn provides a high-level interface for drawing statistical graphics.\n",
    "\n",
    "4. Pandas: A powerful data manipulation and analysis library for Python. It offers data structures like DataFrame for efficient data handling and manipulation.\n",
    "\n",
    "5. scikit-learn: A ML library for Python that provides tools for data mining and data analysis. \n",
    "\n",
    "6. TensorFlow: An open-source machine learning library developed by Google. Used for building and training deep learning models.\n",
    "\n"
   ]
  },
  {
   "cell_type": "markdown",
   "id": "3d604e55",
   "metadata": {},
   "source": [
    "Exercise 6 - Create a markdown cell with a table of Data Science tools\n",
    "Create a single column table in this cell with the first row containing the header Data Science Tools. The subsequent three rows in the table should indicate three development environment open source tools used in data science.\n",
    "\n",
    "**** Take a screenshot of the markdown cell and name it as 6-dstools.png (Images can be saved with either the .jpg or .png extension.)\n",
    "\n",
    "Hint: Refer to Lab: Using Markdowns in Jupyter Notebooks to create a table.\n"
   ]
  },
  {
   "cell_type": "markdown",
   "id": "50109f06",
   "metadata": {},
   "source": [
    "| Data Science Tools  |\n",
    "| --------------------|\n",
    "| Jupyter Notebooks   |\n",
    "| RStudio             |\n",
    "| VS Code with Python |\n"
   ]
  },
  {
   "cell_type": "markdown",
   "id": "70d94d71",
   "metadata": {},
   "source": [
    "Exercise 7 - Create a markdown cell introducing arithmetic expression examples\n",
    "Add a line in this cell with H3 style heading with text like:\n",
    "Below are a few examples of evaluating arithmetic expressions in Python.\n",
    "\n",
    "****Take a screenshot of the markdown cell and name it as 7-introarithmetic.png (Images can be saved with either the .jpg or .png extension.)\n"
   ]
  },
  {
   "cell_type": "markdown",
   "id": "25210331",
   "metadata": {},
   "source": [
    "### Below are a few examples of evaluating arithmetic expressions in Python.\n",
    "\n",
    "In Python, arithmetic expressions involve mathematical operations like addition, subtraction, multiplication, and division. Let's explore some examples to illustrate these concepts.\n"
   ]
  },
  {
   "cell_type": "markdown",
   "id": "3fc90037",
   "metadata": {},
   "source": [
    "Exercise 8 - Create a code cell to multiply and add numbers\n",
    "In this code cell evaluate the expression (3*4)+5.\n",
    "Insert a comment line before the expression to explain the operation e.g. This a simple arithmetic expression to mutiply then add integers.\n",
    "Then execute the cell to ensure the expression returns the expected output of 17.\n",
    "\n",
    "**** Take a screenshot of the code cell with output and name it as 8-multiplyandaddintegers.png (Images can be saved with either the .jpg or .png extension.)\n"
   ]
  },
  {
   "cell_type": "code",
   "execution_count": 1,
   "id": "d617e7d1",
   "metadata": {},
   "outputs": [
    {
     "data": {
      "text/plain": [
       "17"
      ]
     },
     "execution_count": 1,
     "metadata": {},
     "output_type": "execute_result"
    }
   ],
   "source": [
    "# This is a simple arithmetic expression to multiply then add integers.\n",
    "result = (3 * 4) + 5\n",
    "result\n"
   ]
  },
  {
   "cell_type": "markdown",
   "id": "7b33d4b6",
   "metadata": {},
   "source": [
    "Exercise 9 - Create a code cell to convert minutes to hours\n",
    "In this code cell write an expression that converts 200 minutes into hours.\n",
    "Insert a comment line before the expression to explain the operation e.g. This will convert 200 minutes to hours by diving by 60.\n",
    "Run the cell to evaluate the expression.\n",
    "\n",
    "**** Take a screenshot of the code cell with output and name it as 9-hourstominutes.png (Images can be saved with either the .jpg or .png extension.)\n"
   ]
  },
  {
   "cell_type": "code",
   "execution_count": 2,
   "id": "c56a85f3",
   "metadata": {},
   "outputs": [
    {
     "data": {
      "text/plain": [
       "3.3333333333333335"
      ]
     },
     "execution_count": 2,
     "metadata": {},
     "output_type": "execute_result"
    }
   ],
   "source": [
    "# This will convert 200 minutes to hours by dividing by 60.\n",
    "minutes = 200\n",
    "hours = minutes / 60\n",
    "hours"
   ]
  },
  {
   "cell_type": "markdown",
   "id": "3f103f06",
   "metadata": {},
   "source": [
    "Exercise 10 - Insert a markdown cell to list Objectives\n",
    "Below the introduction cell created in Exercise 3, insert a new markdown cell to list the objectives that this notebook covered (i.e. some of the key takeaways from the course). In this new cell start with an introductory line titled: Objectives: in bold font. Then using an unordered list (bullets) indicate 3 to 5 items covered in this notebook, such as List popular languages for Data Science.\n",
    "\n",
    "**** Take a screenshot of the markdown cell and name it as 10-objectives.png (Images can be saved with either the .jpg or .png extension.)\n"
   ]
  },
  {
   "cell_type": "markdown",
   "id": "00a84016",
   "metadata": {},
   "source": [
    "Exercise 11 - Create a markdown cell to indicate the Author's name\n",
    "In this markdown cell markdown cell include the following text Author in H2 style heading. Include your name as regular text below the word Author.\n",
    "**** Take a screenshot of the markdown cell and name it as 11-authordetails.png (Images can be saved with either the .jpg or .png extension.)\n",
    "\n",
    "Note: Save and download the notebook.\n"
   ]
  },
  {
   "cell_type": "markdown",
   "id": "074fa8bb",
   "metadata": {},
   "source": [
    "## Author\n",
    "\n",
    "Robert Baskett\n"
   ]
  },
  {
   "cell_type": "markdown",
   "id": "186c87dd",
   "metadata": {},
   "source": [
    "Exercise 12 - Share your notebook through GitHub\n",
    "Upload your notebook to a public respository on GitHub.\n",
    "\n",
    "Note : Please keep the GitHub repo link of the notebook handy. You will need to submit this link as a part of the assignment evaluation.\n",
    "\n",
    "Hint: Refer to Lab: Working with files in Jupyter Notebooks to download the notebook from SN Labs.\n"
   ]
  },
  {
   "cell_type": "markdown",
   "id": "deb37b43",
   "metadata": {},
   "source": [
    "Exercise 13 -Take a screenshot of the first page of the notebook and save it as 1-notebook.png(Images can be saved with either the .jpg or .png extension.)\n",
    " \n",
    "Refer to Hands-on Lab: Getting Started with GitHub to upload the downloaded notebook to GitHub.\n",
    "\n"
   ]
  },
  {
   "cell_type": "markdown",
   "id": "f14df877",
   "metadata": {},
   "source": [
    "Congratulations on completing this project. In a subsequent item in the course you will submit a link to your notebook on GitHub and evaluate your peers."
   ]
  }
 ],
 "metadata": {
  "kernelspec": {
   "display_name": "Python 3",
   "language": "python",
   "name": "python3"
  },
  "language_info": {
   "codemirror_mode": {
    "name": "ipython",
    "version": 3
   },
   "file_extension": ".py",
   "mimetype": "text/x-python",
   "name": "python",
   "nbconvert_exporter": "python",
   "pygments_lexer": "ipython3",
   "version": "3.9.2"
  }
 },
 "nbformat": 4,
 "nbformat_minor": 5
}
